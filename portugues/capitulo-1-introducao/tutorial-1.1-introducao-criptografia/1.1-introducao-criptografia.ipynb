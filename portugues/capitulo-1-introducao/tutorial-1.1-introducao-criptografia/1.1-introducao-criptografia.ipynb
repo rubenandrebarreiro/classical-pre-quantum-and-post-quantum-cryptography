{
 "cells": [
  {
   "cell_type": "markdown",
   "id": "cf4cdde0",
   "metadata": {},
   "source": [
    "# **Tutorial 1.1 - Introdução à Criptografia**\n",
    "\n",
    "***\n",
    "\n",
    "### **Neste tutorial, irá ser feita uma introdução ao que é a Criptografia em si.**"
   ]
  },
  {
   "cell_type": "markdown",
   "id": "7d5f3cb1",
   "metadata": {},
   "source": [
    "## **O que é a Criptografia?**\n",
    "\n",
    "* A Criptografia é a prática de proteger informações, símbolos ou linguagens, por meio de príncipios, técnicas e algoritmos, tornando-a codificada e ininteligível para quem não seja autorizado a aceder à informação original.\n",
    "* A expressão Criptografia tem origem nas palavras gregas _kryptós_ e _gráphein_, que significam \"escondido\" e \"escrita\" em português, respetivamente.\n",
    "* Tem, maioritariamente, como objetivo, fornecer metodologias para comunicações seguras entre duas (ou mais) entidades, na presença de terceiras entidades, que não estão autorizados a aceder ao conteúdo verdadeiro dessas comunicações, chamadas de \"adversários\" (ou por vezes, também chamadas de \"atacantes\" ou \"_hackers_\").\n",
    "* A idéia principal desta área é abordar a construção e análise destas metodologias que impeçam estas terceiras entidades (ou o público, no geral) de acederem ao verdadeiro contéudo da informação privada, que é protegida de alguma forma por estas metodologias.\n",
    "* A Criptografia em si, existe na interseção das disciplinas de matemática, ciência da computação, engenharia elétrica, ciência da comunicação e física.\n",
    "* Nos dias atuais, a Criptografia tem inúmeras aplicações, como comércio eletrónico, serviços bancários, cartões de pagamento em _chip_ (ou os famosos _smart cards_), moedas digitais (também conhecidas como criptomoedas), senhas/_passwords_ de computadores, serviços e operações militares, entre outras."
   ]
  },
  {
   "cell_type": "markdown",
   "id": "b04168b7",
   "metadata": {},
   "source": [
    "## **Quais são os aspetos principais da Criptografia?**\n",
    "\n",
    "* Muitos dos aspetos principais da Criptografia são os seguintes:\n",
    "    * **Confidencialidade**:\n",
    "        * A informação não deverá estar disponível ou ser divulgada a terceiras entidades, sem autorização.\n",
    "        * Garante o resguardo das informação dada, em confiança e proteção, contra a sua revelação não autorizada.\n",
    "        * Garante o sigilo da informação, mesmo quando a mesma é intercetada durante a transmissão ou captura no seu local de armazenamento.\n",
    "    * **Integridade**:\n",
    "        * Manutenção e a garantia da precisão e consistência da informação, mesmo estando já protegida de alguma forma, durante todo o seu ciclo de vida.\n",
    "        * Garante que a informação, uma vez mais, mesmo estando já protegida de alguma forma, não é corrompida ou adulterada.\n",
    "        * É um aspecto crítico para o projeto, implementação e uso de qualquer sistema que armazene, processe ou recupere informação.\n",
    "    * **Autenticação**:\n",
    "        * Ato de estabelecer ou confirmar alguma entidade como autêntica, isto é, que reivindica a autoria ou a veracidade de alguma informação.\n",
    "        * Remete também à confirmação da procedência de uma entidade, neste caso, frequentemente relacionada com a verificação da sua identidade.\n",
    "        * Garante que uma entidade é quem afirma ser, especialmente quando está envolvida diretamente numa comunicação segura de informação, de forma a evitar acesso não autorizado à mesma.\n",
    "    * **Não-Repúdio**:\n",
    "        * Ato de comprovar a integridade e origem da informação, durante o seu ciclo de vida, como sendo genuínos.\n",
    "        * A origem e destino da informação não podem negar a intenção de criar ou receber a informação protegida de alguma forma."
   ]
  },
  {
   "cell_type": "markdown",
   "id": "9f78d427",
   "metadata": {},
   "source": [
    "## **Qual é a origem da Criptografia?**\n",
    "\n",
    "* Apesar do termo Criptografia ter ficado bem conhecido e ser muito comentado sobretudo nos últimos tempos, a mesma já estava presente na sociedade há muitos séculos atrás.\n",
    "* O primeiro uso conhecido da Criptografia foi encontrado em Hieróglifos irregulares esculpidos em monumentos do Antigo Império do Egito, há cerca de 4.500 anos atrás.\n",
    "* Porém, este uso não pode ser considerado como uma tentativa séria de comunicações secretas, mas sim de construir mensagens misteriosas, intrigas, ou mesmo apenas para diversão dos alfabetizados (que eram poucos nestes tempos).\n",
    "* Posterioremente, algumas tabuletas de argila na Mesopotâmia, foram utilizadas para proteger informações, por exemplo, receitas de valor comercial, e técnicas semelhantes foram também adotadas na Babilónia e Assíria, nesta época.\n",
    "* Mais tarde ainda, entre 500 a.C. e 600 a.C., alguns estudiosos Hebreus fizeram uso de simples cifras de substituição monoalfabética (que vai ser abordada posteriormente)."
   ]
  },
  {
   "cell_type": "markdown",
   "id": "6577dea8",
   "metadata": {},
   "source": [
    "## **Quais são as diferentes épocas da Criptografia?**\n",
    "\n",
    "**1. Criptografia Antiga (2.000 a.C - 1.800 d.C.):**\n",
    "   * Origem das primeiras formas de Criptografia, praticamente desde das primeiras civilizações até ao século XIX.\n",
    "   * Iniciou-se com algumas das civilizações mais primitivas, como o Antigo Império do Egito, Mesopotâmia, Babilónia, Assíria e Hebreus.\n",
    "   * Posteriormente, foi adotado por outros impérios e civilizações antigas bastante conhecidas, como os gregos antigos, os espartanos, e romanos.\n",
    "   * Teve também um grande uso nas Arábias, para análise textual do Alcorão e para desenvolvimento das primeiras técnicas de análise de frequência de símbolos, por volta do século IX.\n",
    "   * Foi de grande importância na era medieval, na Europa e no Ocidente, na época renascentista, sendo praticamente uma consequência da competição política e revolução religiosa durante esta época.\n",
    "   * E foi de uma extrema importância durante alguns reinados do Reino Únido, nomeadamente nalguns reinados de Inglaterra e Escócia, resultando em conspirações e traições nestes tempos.\n",
    "   * No Oriente, a Criptografia começou a ser adotada pelo Japão inicialmente, apenas por volta do século XVI."
   ]
  }
 ],
 "metadata": {
  "kernelspec": {
   "display_name": "Java",
   "language": "java",
   "name": "java"
  },
  "language_info": {
   "codemirror_mode": "text/x-java",
   "file_extension": ".java",
   "mimetype": "",
   "name": "Java",
   "nbconverter_exporter": "",
   "version": "1.8.0_121"
  },
  "toc": {
   "base_numbering": 1,
   "nav_menu": {},
   "number_sections": false,
   "sideBar": false,
   "skip_h1_title": false,
   "title_cell": "Table of Contents",
   "title_sidebar": "Contents",
   "toc_cell": false,
   "toc_position": {},
   "toc_section_display": false,
   "toc_window_display": false
  }
 },
 "nbformat": 4,
 "nbformat_minor": 5
}
